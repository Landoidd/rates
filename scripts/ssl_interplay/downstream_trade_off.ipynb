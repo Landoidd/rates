{
 "cells": [
  {
   "attachments": {},
   "cell_type": "markdown",
   "metadata": {},
   "source": [
    "# Trade-off on downstream error: spherical harmonics example"
   ]
  },
  {
   "cell_type": "code",
   "execution_count": 1,
   "metadata": {},
   "outputs": [],
   "source": [
    "from collections import defaultdict\n",
    "from itertools import product\n",
    "\n",
    "import numpy as np\n",
    "import matplotlib.pyplot as plt\n",
    "from scipy.special import gegenbauer\n",
    "from scipy import linalg as LA\n",
    "\n",
    "plt.rc('text', usetex=True)\n",
    "plt.rc('text.latex', preamble=r'\\usepackage{mathtools}')\n",
    "plt.rc('font', size=10, family='serif', serif='cm')\n"
   ]
  },
  {
   "cell_type": "code",
   "execution_count": 2,
   "metadata": {},
   "outputs": [],
   "source": [
    "def rand_data(n, d):\n",
    "    X = np.random.randn(n, d)\n",
    "    return X / np.linalg.norm(X, axis=1)[:,None]\n",
    "\n",
    "#### Symmetries\n",
    "\n",
    "def block_cyclic(d, s):\n",
    "    assert d % s == 0\n",
    "    blocks = d // s\n",
    "    sigma = np.arange(d)\n",
    "    perm = sigma.copy()\n",
    "    for shifts in product(*[range(s)] * blocks):\n",
    "        for i, shift in enumerate(shifts):\n",
    "            perm[i*s:(i+1)*s] = np.roll(sigma[i*s:(i+1)*s], shift)\n",
    "        yield perm\n",
    "\n",
    "\n",
    "def get_perms(group, d):\n",
    "    if group == 'cyclic':\n",
    "        return block_cyclic(d, d)\n",
    "    elif group.startswith('loc_'): # (not a group... also only works with shift=1, rest is TODO)\n",
    "        return [np.arange(d), np.roll(np.arange(d), -1), np.roll(np.arange(d), 1)]\n",
    "    else:\n",
    "        assert False\n",
    "\n",
    "\n",
    "def symmetrize(f, group='perm'):\n",
    "    def newf(X):\n",
    "        numperm = 0\n",
    "        out = 0.\n",
    "        for perm in get_perms(group, X.shape[1]):\n",
    "            out += f(X[:,perm])\n",
    "            numperm += 1\n",
    "        return out / numperm\n",
    "    return newf\n",
    "\n",
    "##### (downstream) target functions\n",
    "\n",
    "def target_gegen(X, deg=3, group=None):\n",
    "    d = X.shape[1]\n",
    "    pk = gegenbauer(deg, d / 2 - 1)\n",
    "\n",
    "    def f(X):\n",
    "        return pk(X[:,0])\n",
    "    return symmetrize(f, group=group)(X) if group else f(X)\n"
   ]
  },
  {
   "cell_type": "code",
   "execution_count": 3,
   "metadata": {},
   "outputs": [],
   "source": [
    "#### Aruguments\n",
    "max_shift = 1\n",
    "# log_lambda_min = -5\n",
    "\n",
    "d = 8\n",
    "k = 20\n",
    "n = 2000         # n = n_train + n_test\n",
    "n_train = 300"
   ]
  },
  {
   "cell_type": "code",
   "execution_count": 4,
   "metadata": {},
   "outputs": [],
   "source": [
    "np.random.seed(42)\n",
    "naug = 1 + 2 * max_shift  # identity + shifts in both directions\n",
    "X = rand_data(n, d).astype(np.float32)\n",
    "\n",
    "labels = [r'$\\ell=1$ non-inv.', r'$\\ell=3$, inv.']\n",
    "ys = []\n",
    "ys.append(target_gegen(X, 1, group='loc_1'))\n",
    "ys.append(target_gegen(X, 3, group='cyclic'))\n",
    "\n",
    "ys_train = []\n",
    "ys_test = []\n",
    "for y in ys:\n",
    "    ytr, yte = y[:n_train], y[n_train:]\n",
    "    ys_train.append(ytr)\n",
    "    ys_test.append(yte)\n",
    "\n",
    "X_train, X_test = X[:n_train], X[n_train:]\n",
    "X_aug = [X_train.copy()]\n",
    "for shift in range(1, max_shift + 1):\n",
    "    perm = np.roll(np.arange(d), shift)\n",
    "    X_aug.append(X_train[:,perm])\n",
    "    perm = np.roll(np.arange(d), -shift)\n",
    "    X_aug.append(X_train[:,perm])\n",
    "\n",
    "X_aug = np.concatenate(X_aug)\n",
    "n_aug = X_aug.shape[0]\n"
   ]
  },
  {
   "cell_type": "code",
   "execution_count": 5,
   "metadata": {},
   "outputs": [
    {
     "data": {
      "image/png": "[encoded data removed]",
      "text/plain": [
       "<Figure size 300x150 with 1 Axes>"
      ]
     },
     "metadata": {},
     "output_type": "display_data"
    }
   ],
   "source": [
    "T = np.kron(1. - np.eye(naug), np.eye(n_train))\n",
    "\n",
    "ssl_lmbdas = np.logspace(-2, 1.2, num=20)\n",
    "lmbdas = np.logspace(-5, 0, num=10)\n",
    "\n",
    "#### Kernels\n",
    "\n",
    "def kappa1(u):\n",
    "    return (np.sqrt(1 - u**2) + u * (np.pi - np.arccos(u))) / np.pi\n",
    "\n",
    "def kappa1b(u):\n",
    "    return (1. + u) * kappa1(u)\n",
    "\n",
    "kernel_fn = kappa1b\n",
    "Kfull = kernel_fn(X_aug.dot(X_aug.T).clip(min=-1.,max=1.))\n",
    "Kfull_tr = kernel_fn(X_aug.dot(X_train.T).clip(min=-1., max=1.))\n",
    "Kfull_te = kernel_fn(X_aug.dot(X_test.T).clip(min=-1., max=1.))\n",
    "\n",
    "#### Training \n",
    "Kinv = LA.pinvh(Kfull + 1e-4 * np.eye(Kfull.shape[0]))\n",
    "\n",
    "errs = defaultdict(list)\n",
    "for lmbda_ssl in ssl_lmbdas:\n",
    "    Tl = T - lmbda_ssl * Kinv\n",
    "    e, C = LA.eigh(Tl, subset_by_index=[len(Tl) - k, len(Tl) - 1])\n",
    "    ind = e > 0\n",
    "    C = C[:, ind]  # remove negative eigenvalues\n",
    "\n",
    "    phi_test = Kfull_te.T @ (Kinv @ C)\n",
    "    phi_train = Kfull_tr.T @ (Kinv @ C)\n",
    "\n",
    "    for target, ytr, yte in zip(labels, ys_train, ys_test):\n",
    "        valid_errs = []\n",
    "        for lmbda in lmbdas:\n",
    "            preds = phi_test.dot(np.linalg.solve(phi_train.T.dot(phi_train) + n_train * lmbda * np.eye(C.shape[1], dtype=phi_train.dtype), phi_train.T.dot(ytr)))\n",
    "            err = np.mean((preds - yte) ** 2) / np.mean(yte ** 2)\n",
    "            valid_errs.append(err)\n",
    "        errs[target].append(np.min(valid_errs))\n",
    "\n",
    "#### Display\n",
    "\n",
    "fig, ax = plt.subplots(1, 1, figsize=(3,1.5))\n",
    "i = 0\n",
    "for target, err in errs.items():\n",
    "    i += 1\n",
    "    if i in [1, 2]:\n",
    "        ax.loglog(ssl_lmbdas, err, label=target)\n",
    "\n",
    "#    ax.set_title('Trade-off on downtream errors', fontsize=10)\n",
    "ax.set_xlabel(r'$\\lambda$', fontsize=8)\n",
    "ax.set_ylabel(r'$L^2$ error', fontsize=8)\n",
    "ax.tick_params(axis=\"both\", which=\"major\", labelsize=6)\n",
    "# ax.set_yticks([])\n",
    "ax.spines['top'].set_visible(False)\n",
    "ax.spines['right'].set_visible(False)\n",
    "ax.legend(fontsize=6, ncol=1, title='target function', title_fontsize=6)\n",
    "fig.tight_layout()\n",
    "# fig.savefig('ssl_8_1.pdf', bbox_inches='tight')"
   ]
  },
  {
   "cell_type": "code",
   "execution_count": null,
   "metadata": {},
   "outputs": [],
   "source": []
  }
 ],
 "metadata": {
  "kernelspec": {
   "display_name": "dev",
   "language": "python",
   "name": "python3"
  },
  "language_info": {
   "codemirror_mode": {
    "name": "ipython",
    "version": 3
   },
   "file_extension": ".py",
   "mimetype": "text/x-python",
   "name": "python",
   "nbconvert_exporter": "python",
   "pygments_lexer": "ipython3",
   "version": "3.10.4"
  },
  "orig_nbformat": 4,
  "vscode": {
   "interpreter": {
    "hash": "eeb90ca8861134173ea2edb6120d403a551dc71a17254f2d5d4c5ae7c0686c83"
   }
  }
 },
 "nbformat": 4,
 "nbformat_minor": 2
}
