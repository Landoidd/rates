{
  "cells": [
    {
      "attachments": {},
      "cell_type": "markdown",
      "metadata": {},
      "source": [
        "# NTK example for the SSL interplay"
      ]
    },
    {
      "cell_type": "code",
      "execution_count": 1,
      "metadata": {
        "id": "2AwoHi-cExVO"
      },
      "outputs": [],
      "source": [
        "# Overall matplotlib settings\n",
        "import matplotlib as mpl\n",
        "import matplotlib.pyplot as plt\n",
        "\n",
        "\n",
        "plt.rc('text', usetex=True)\n",
        "plt.rc('text.latex', preamble= r'\\usepackage{mathtools}')\n",
        "plt.rc('font', size=10, family='serif', serif='cm')\n",
        "\n",
        "figsize_default = (3., 2.5)"
      ]
    },
    {
      "cell_type": "code",
      "execution_count": 2,
      "metadata": {
        "id": "n2T6hcIhE3pp"
      },
      "outputs": [],
      "source": [
        "import numpy as np\n",
        "import math\n",
        "pi = math.pi\n",
        "\n",
        "\n",
        "def kernel(x,y, bias = 0, weight = 1, layers = 2):\n",
        "  def recurse_step(corr, x_corr, y_corr):\n",
        "    theta = np.arccos(corr / np.sqrt(x_corr*y_corr))\n",
        "    corr = bias*bias + weight*weight/pi/2*(np.sin(theta) + (pi-theta)*np.cos(theta))\n",
        "    return corr\n",
        "  n = x.shape[-1]\n",
        "  corr = np.sum(x*y, axis = -1)/n\n",
        "  corr = bias*bias + weight*weight*corr\n",
        "  x_corr = bias*bias + weight*weight*np.ones(corr.shape)\n",
        "  y_corr = bias*bias + weight*weight*np.ones(corr.shape)\n",
        "  for _ in range(layers):\n",
        "    corr = recurse_step(corr, x_corr, y_corr)\n",
        "    x_corr = recurse_step(x_corr, x_corr, x_corr)\n",
        "    y_corr = recurse_step(y_corr, y_corr, y_corr)\n",
        "\n",
        "  return corr"
      ]
    },
    {
      "cell_type": "code",
      "execution_count": 3,
      "metadata": {
        "id": "WTQ6dUkHITZe"
      },
      "outputs": [],
      "source": [
        "def boolean_strings(n):\n",
        "    boolean_strings = np.ones((2**n,n))\n",
        "    # Iterate through all possible binary strings of length n\n",
        "    for i in range(2**n):\n",
        "        # Convert the binary string to an array of -1 and 1\n",
        "        binary_string = np.array([1 if digit=='1' else -1 for digit in bin(i)[2:].zfill(n)])\n",
        "        # Append the array to the list of boolean strings\n",
        "        boolean_strings[i] = binary_string\n",
        "\n",
        "    return boolean_strings\n"
      ]
    },
    {
      "cell_type": "code",
      "execution_count": 4,
      "metadata": {
        "colab": {
          "base_uri": "https://localhost:8080/"
        },
        "id": "qu9ohFuOI9Y3",
        "outputId": "c06830dd-17b0-4905-a065-2225f4267d36"
      },
      "outputs": [
        {
          "name": "stdout",
          "output_type": "stream",
          "text": [
            "[0.0625, 0.1111111111111111, 0.17361111111111113]\n",
            "[0.0010193152149029425, 5.965545677722589e-05, 1.448151418104171e-05]\n"
          ]
        }
      ],
      "source": [
        "diams = [6, 5, 4]\n",
        "cards = [2, 3, 4]\n",
        "n = 12\n",
        "strings = boolean_strings(n)\n",
        "\n",
        "\n",
        "def get_eig_T(diam,n):\n",
        "  out = 8-diam+1\n",
        "  if out < 0:\n",
        "    return 0\n",
        "  else:\n",
        "    return out*out/n/n\n",
        "\n",
        "def get_eig_K(card):\n",
        "  parity = np.prod(strings[:,:card],axis=-1)\n",
        "  input = np.ones((2**n,n))\n",
        "  input[:] = np.asarray([-1]*card + [1]*(n-card))\n",
        "  k = kernel(input,strings)\n",
        "  return np.abs(np.sum(k*parity)/(2**n))\n",
        "\n",
        "\n",
        "eig_T = [get_eig_T(d,n) for d in diams]\n",
        "eig_K = [get_eig_K(c) for c in cards]\n",
        "print(eig_T)\n",
        "print(eig_K)\n"
      ]
    },
    {
      "cell_type": "code",
      "execution_count": 8,
      "metadata": {
        "colab": {
          "base_uri": "https://localhost:8080/",
          "height": 198
        },
        "id": "7R8AJZL7NMEL",
        "outputId": "ba6911ec-0894-4883-eda1-4e7afe0b4beb"
      },
      "outputs": [
        {
          "data": {
            "image/png": "[encoded data removed]",
            "text/plain": [
              "<Figure size 300x150 with 1 Axes>"
            ]
          },
          "metadata": {},
          "output_type": "display_data"
        }
      ],
      "source": [
        "fig, ax = plt.subplots(figsize=(3, 1.5))\n",
        "\n",
        "\n",
        "x = np.linspace(0, 0.00001, 20)\n",
        "max_y = np.ones(x.shape)*-100000\n",
        "labels = [r'$\\chi_{\\{1, 6\\}}$', r'$\\chi_{\\{1, 3, 5\\}}$', r'$\\chi_{\\{1, 2, 3, 4\\}}$']\n",
        "for line, color in enumerate( ['C2', 'C1', 'C0']):\n",
        "    slope = -1/eig_K[line]\n",
        "    intercept = eig_T[line]\n",
        "    y = slope * x + intercept\n",
        "    max_y = np.maximum(max_y,y)\n",
        "    ax.plot(x, y, '--', color=color, label = labels[line])\n",
        "\n",
        "ax.set_xticks([])\n",
        "ax.set_yticks([])\n",
        "ax.spines['top'].set_visible(False)\n",
        "ax.spines['right'].set_visible(False)\n",
        "ax.set_xlabel(r'$\\lambda$', fontsize=8)\n",
        "ax.set_ylabel(r'$\\lambda_i - \\lambda\\|\\theta_i\\|^2$', fontsize=8)\n",
        "ax.legend(fontsize=8)\n",
        "\n",
        "ax.plot(x, max_y, '-k', linewidth=2, alpha=0.5)\n",
        "ax.set_xlabel(r'Regularization parameter $\\lambda$',fontsize=8)\n",
        "ax.set_ylabel(r'Eigenvalue $\\|T_\\lambda \\chi_S\\|$', fontsize=8)\n",
        "ax.set_ylim([0,0.2])\n",
        "fig.tight_layout()\n",
        "plt.savefig('eig_comparison_crop.pdf')#, bbox_inches='tight')\n",
        "plt.show()\n",
        "\n"
      ]
    },
    {
      "cell_type": "code",
      "execution_count": null,
      "metadata": {},
      "outputs": [],
      "source": []
    }
  ],
  "metadata": {
    "colab": {
      "provenance": []
    },
    "kernelspec": {
      "display_name": "Python 3.10.4 ('dev')",
      "language": "python",
      "name": "python3"
    },
    "language_info": {
      "codemirror_mode": {
        "name": "ipython",
        "version": 3
      },
      "file_extension": ".py",
      "mimetype": "text/x-python",
      "name": "python",
      "nbconvert_exporter": "python",
      "pygments_lexer": "ipython3",
      "version": "3.10.4"
    },
    "vscode": {
      "interpreter": {
        "hash": "eeb90ca8861134173ea2edb6120d403a551dc71a17254f2d5d4c5ae7c0686c83"
      }
    }
  },
  "nbformat": 4,
  "nbformat_minor": 0
}
