{
 "cells": [
  {
   "attachments": {},
   "cell_type": "markdown",
   "metadata": {},
   "source": [
    "# Load and display script results"
   ]
  },
  {
   "cell_type": "code",
   "execution_count": 1,
   "metadata": {},
   "outputs": [],
   "source": [
    "import matplotlib.pyplot as plt\n",
    "import numpy as np\n",
    "from rates.auxillary import read_numpy_file, write_numpy_file\n",
    "\n",
    "\n",
    "plt.rc('text', usetex=True)\n",
    "plt.rc('text.latex', preamble=r'\\usepackage{mathtools}')\n",
    "plt.rc('font', size=10, family='serif', serif='cm')\n",
    "\n",
    "num_n_train = 100\n",
    "nb_down_trials = 200\n",
    "num_n_up = 50\n",
    "nb_up_trials = 100\n",
    "error = {}\n",
    "error['cl'] = read_numpy_file('/home/vivc/Data/icml2/cl_data.npy', shape=(nb_up_trials, num_n_up, nb_down_trials, num_n_train)).mean(axis=(0, 2))\n",
    "error['reg'] = read_numpy_file('/home/vivc/Data/icml2/reg_data.npy', shape=(nb_up_trials, num_n_up, nb_down_trials, num_n_train)).mean(axis=(0,2))\n",
    "\n",
    "min_n_train = 30\n",
    "max_n_train = 1000\n",
    "min_n_up = 30\n",
    "max_n_up = 1000\n",
    "\n",
    "ns_up = np.logspace(np.log10(min_n_up), np.log10(max_n_up), num=num_n_up).astype(int)\n",
    "ns_down = np.logspace(np.log10(min_n_train), np.log10(max_n_train), num=num_n_train).astype(int)\n",
    "nX, nY = np.meshgrid(ns_up, ns_down)\n"
   ]
  },
  {
   "cell_type": "code",
   "execution_count": 3,
   "metadata": {},
   "outputs": [
    {
     "data": {
      "image/png": "[encoded data removed]",
      "text/plain": [
       "<Figure size 300x200 with 2 Axes>"
      ]
     },
     "metadata": {},
     "output_type": "display_data"
    },
    {
     "data": {
      "image/png": "[encoded data removed]",
      "text/plain": [
       "<Figure size 300x200 with 2 Axes>"
      ]
     },
     "metadata": {},
     "output_type": "display_data"
    }
   ],
   "source": [
    "for name in ['cl', 'reg']:\n",
    "    fig, ax = plt.subplots(figsize=(3, 2))\n",
    "    # ax.contourf(nX, nY, error_reg.mean(axis=(0, 2)))\n",
    "    s = ax.contourf(nX, nY, np.log10(error[name]).T, cmap='RdBu_r')\n",
    "    ax.set_xscale('log')\n",
    "    ax.set_yscale('log')\n",
    "    ax.spines['top'].set_visible(False)\n",
    "    ax.spines['right'].set_visible(False)\n",
    "    ax.tick_params(axis='both', which='major', labelsize=6)\n",
    "    ax.set_xlabel('Number of downstream samples', fontsize=8)\n",
    "    ax.set_ylabel('Pretraining samples', fontsize=8)\n",
    "    c = fig.colorbar(s, ticks=[-1, -2, -3])\n",
    "    c.ax.set_yticklabels([r'$10^{-1}$',r'$10^{-2}$', r'$10^{-3}$'])  # vertically oriented colorbar\n",
    "    c.ax.tick_params(labelsize=6)\n",
    "    # fig.tight_layout()\n",
    "    fig.savefig(name + '.pdf', pad_inches=0.1, bbox_inches='tight')"
   ]
  },
  {
   "cell_type": "code",
   "execution_count": null,
   "metadata": {},
   "outputs": [],
   "source": []
  }
 ],
 "metadata": {
  "kernelspec": {
   "display_name": "Python 3.10.4 ('dev')",
   "language": "python",
   "name": "python3"
  },
  "language_info": {
   "codemirror_mode": {
    "name": "ipython",
    "version": 3
   },
   "file_extension": ".py",
   "mimetype": "text/x-python",
   "name": "python",
   "nbconvert_exporter": "python",
   "pygments_lexer": "ipython3",
   "version": "3.10.4"
  },
  "orig_nbformat": 4,
  "vscode": {
   "interpreter": {
    "hash": "eeb90ca8861134173ea2edb6120d403a551dc71a17254f2d5d4c5ae7c0686c83"
   }
  }
 },
 "nbformat": 4,
 "nbformat_minor": 2
}
