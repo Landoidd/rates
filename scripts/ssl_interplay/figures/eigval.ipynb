{
 "cells": [
  {
   "cell_type": "code",
   "execution_count": 2,
   "metadata": {},
   "outputs": [],
   "source": [
    "import numpy as np\n",
    "import matplotlib.pyplot as plt\n",
    "plt.rc('text', usetex=True)\n",
    "plt.rc('text.latex', preamble= r'\\usepackage{mathtools,times}')\n",
    "plt.rc('font', size=10, family='serif', serif='cm')\n",
    "\n",
    "def get_eigs(lmbda, K=5, plot_K_only=False):\n",
    "    J = K**2\n",
    "    lambdas = np.zeros((K, J))\n",
    "    eigs = np.zeros((K, J))\n",
    "    nus = 1. / np.arange(1, K+1) ** 2\n",
    "    for k in range(K):\n",
    "        N = (k+1) ** 2 # fake N(d,k)\n",
    "        if k == 0:\n",
    "            lambdas[k,0] = np.exp(-10 * np.arange(N) ** 2 / N*2)\n",
    "        else:\n",
    "#             lambdas[k,:N] = np.exp(-3. * np.floor(3 * np.arange(N)**2 / N) / N)\n",
    "            lambdas[k,:N] = np.exp(-10. * np.arange(N)**2 / N**2)\n",
    "        if plot_K_only:\n",
    "            eigs[k,:] = nus[k]\n",
    "        else:\n",
    "            eigs[k,:] = lambdas[k,:] - lmbda / nus[k]\n",
    "        \n",
    "    return np.clip(eigs, a_min=0, a_max=None)\n"
   ]
  },
  {
   "cell_type": "code",
   "execution_count": 3,
   "metadata": {},
   "outputs": [
    {
     "data": {
      "text/plain": [
       "<Figure size 640x480 with 0 Axes>"
      ]
     },
     "metadata": {},
     "output_type": "display_data"
    },
    {
     "data": {
      "image/png": "[encoded data removed]",
      "text/plain": [
       "<Figure size 125x100 with 1 Axes>"
      ]
     },
     "metadata": {},
     "output_type": "display_data"
    },
    {
     "data": {
      "image/png": "[encoded data removed]",
      "text/plain": [
       "<Figure size 125x100 with 1 Axes>"
      ]
     },
     "metadata": {},
     "output_type": "display_data"
    },
    {
     "data": {
      "image/png": "[encoded data removed]",
      "text/plain": [
       "<Figure size 125x100 with 1 Axes>"
      ]
     },
     "metadata": {},
     "output_type": "display_data"
    }
   ],
   "source": [
    "x, y = np.arange(15) + 1, np.arange(0, 8) + 1\n",
    "X, Y = np.meshgrid(x, y)\n",
    "\n",
    "def get_T(x, y, sigma_x, sigma_y):\n",
    "    out = sigma_x * (x ** 2)[np.newaxis, :] + sigma_y * (y ** 2)[:, np.newaxis]\n",
    "    return np.exp(-out)\n",
    "\n",
    "sigma_x = .005\n",
    "sigma_y = .01\n",
    "\n",
    "T = get_T(x, y, sigma_x, sigma_y)\n",
    "plt.figure()\n",
    "\n",
    "K = np.zeros(*x[np.newaxis:].shape) + y[:, np.newaxis] / 7\n",
    "\n",
    "lambd = .1\n",
    "T_lambda = np.clip(T - lambd * K ** (-1), a_min=0, a_max=None)\n",
    "\n",
    "\n",
    "for A, name, save_name in zip([T, K, T_lambda], ['$T$', '$K$', '$T_\\mu$'], ['T', 'K', 'Tlmbda']):\n",
    "    fig, ax = plt.subplots(figsize=(1.25, 1))\n",
    "    ax.imshow(A[::-1, :], cmap='RdBu_r', vmin=0, vmax=1)\n",
    "    ax.tick_params(axis=\"both\", which=\"major\", labelleft=False, labelbottom=False)\n",
    "    ax.set_xticks([])\n",
    "    ax.set_yticks([])\n",
    "    ax.set_xlabel(r'$\\omega$')\n",
    "    ax.set_ylabel(r'$\\ell$')\n",
    "    ax.set_title(r'Eigenvalues of ' + name, fontsize=8)\n",
    "    fig.savefig('eig' + save_name + '.pdf', pad_inches=0.05, bbox_inches='tight')\n"
   ]
  },
  {
   "cell_type": "code",
   "execution_count": 4,
   "metadata": {},
   "outputs": [
    {
     "data": {
      "image/png": "[encoded data removed]",
      "text/plain": [
       "<Figure size 125x100 with 1 Axes>"
      ]
     },
     "metadata": {},
     "output_type": "display_data"
    },
    {
     "data": {
      "image/png": "[encoded data removed]",
      "text/plain": [
       "<Figure size 125x100 with 1 Axes>"
      ]
     },
     "metadata": {},
     "output_type": "display_data"
    },
    {
     "data": {
      "image/png": "[encoded data removed]",
      "text/plain": [
       "<Figure size 125x100 with 1 Axes>"
      ]
     },
     "metadata": {},
     "output_type": "display_data"
    }
   ],
   "source": [
    "\n",
    "figsize=(1.25, 1)\n",
    "# T\n",
    "fig, ax = plt.subplots(figsize=figsize)\n",
    "eigs = get_eigs(lmbda=0)\n",
    "ax.imshow(eigs[:, :10], cmap=\"RdBu_r\")\n",
    "ax.tick_params(axis=\"both\", which=\"major\", labelleft=False, labelbottom=False)\n",
    "ax.set_xticks([])\n",
    "ax.set_yticks([])\n",
    "ax.set_title(r'Eigenvalues of $T$', fontsize=9)\n",
    "fig.savefig('eigT.pdf', pad_inches=0, bbox_inches='tight')\n",
    "\n",
    "# K\n",
    "fig, ax = plt.subplots(figsize=figsize)\n",
    "eigs = get_eigs(lmbda=0, plot_K_only=True)\n",
    "ax.imshow(eigs[:, :10], cmap=\"RdBu_r\")\n",
    "ax.tick_params(axis=\"both\", which=\"major\", labelleft=False, labelbottom=False)\n",
    "ax.set_xticks([])\n",
    "ax.set_yticks([])\n",
    "ax.set_title(r'Eigenvalues of $K$', fontsize=9)\n",
    "fig.savefig('eigK.pdf', pad_inches=0, bbox_inches='tight')\n",
    "\n",
    "# # T_lambda\n",
    "fig, ax = plt.subplots(figsize=figsize)\n",
    "eigs = get_eigs(lmbda=0.03)\n",
    "ax.imshow(eigs[:, :10], cmap=\"RdBu_r\")\n",
    "ax.tick_params(axis=\"both\", which=\"major\", labelleft=False, labelbottom=False)\n",
    "ax.set_xticks([])\n",
    "ax.set_yticks([])\n",
    "ax.set_title(r'Eigvalues of $T_\\lambda$', fontsize=9)\n",
    "fig.savefig('eigTlmbda.pdf', pad_inches=0, bbox_inches='tight')"
   ]
  },
  {
   "cell_type": "code",
   "execution_count": null,
   "metadata": {},
   "outputs": [],
   "source": []
  }
 ],
 "metadata": {
  "kernelspec": {
   "display_name": "Python 3.10.4 ('dev': conda)",
   "language": "python",
   "name": "python3"
  },
  "language_info": {
   "codemirror_mode": {
    "name": "ipython",
    "version": 3
   },
   "file_extension": ".py",
   "mimetype": "text/x-python",
   "name": "python",
   "nbconvert_exporter": "python",
   "pygments_lexer": "ipython3",
   "version": "3.10.4"
  },
  "orig_nbformat": 4,
  "vscode": {
   "interpreter": {
    "hash": "eeb90ca8861134173ea2edb6120d403a551dc71a17254f2d5d4c5ae7c0686c83"
   }
  }
 },
 "nbformat": 4,
 "nbformat_minor": 2
}
